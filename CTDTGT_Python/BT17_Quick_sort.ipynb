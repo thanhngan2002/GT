{
 "cells": [
  {
   "cell_type": "code",
   "execution_count": 7,
   "id": "harmful-necessity",
   "metadata": {},
   "outputs": [
    {
     "name": "stdout",
     "output_type": "stream",
     "text": [
      "[20, 26, 17, 31, 44, 54, 77, 55, 93]\n"
     ]
    }
   ],
   "source": [
    "def quicksort(x):\n",
    "    if len(x) == 1 or len(x) == 0:\n",
    "        return x\n",
    "    else:\n",
    "        pivot = x[0]\n",
    "        i = 0\n",
    "        for j in range(len(x)-1):\n",
    "            if x[j+1] < pivot:\n",
    "                x[j+1],x[i+1] = x[i+1], x[j+1]\n",
    "                i += 1\n",
    "        x[0],x[i] = x[i],x[0]\n",
    "        a1 = quicksort(x[:i])\n",
    "        a2 = quicksort(x[i+1:])\n",
    "        a1.append(x[i])\n",
    "        return a1 + a2\n",
    "        \n",
    "list1 = [54,26,93,17,77,31,44,55,20]\n",
    "quicksort(list1)\n",
    "print(list1)"
   ]
  },
  {
   "cell_type": "code",
   "execution_count": null,
   "id": "positive-slovakia",
   "metadata": {},
   "outputs": [],
   "source": []
  }
 ],
 "metadata": {
  "kernelspec": {
   "display_name": "Python 3",
   "language": "python",
   "name": "python3"
  },
  "language_info": {
   "codemirror_mode": {
    "name": "ipython",
    "version": 3
   },
   "file_extension": ".py",
   "mimetype": "text/x-python",
   "name": "python",
   "nbconvert_exporter": "python",
   "pygments_lexer": "ipython3",
   "version": "3.8.5"
  }
 },
 "nbformat": 4,
 "nbformat_minor": 5
}
